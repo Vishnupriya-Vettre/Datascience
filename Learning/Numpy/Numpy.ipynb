{
  "nbformat": 4,
  "nbformat_minor": 0,
  "metadata": {
    "colab": {
      "provenance": []
    },
    "kernelspec": {
      "name": "python3",
      "display_name": "Python 3"
    },
    "language_info": {
      "name": "python"
    }
  },
  "cells": [
    {
      "cell_type": "code",
      "execution_count": 1,
      "metadata": {
        "id": "OVYZdkU0dQx8"
      },
      "outputs": [],
      "source": [
        "import numpy as np"
      ]
    },
    {
      "cell_type": "code",
      "source": [
        "list = [1,2,3,4]\n",
        "print(list)"
      ],
      "metadata": {
        "colab": {
          "base_uri": "https://localhost:8080/"
        },
        "id": "_5gCFT2DqJVT",
        "outputId": "5fa8f73f-b4b9-4890-e042-3b8cccf5c5bf"
      },
      "execution_count": 2,
      "outputs": [
        {
          "output_type": "stream",
          "name": "stdout",
          "text": [
            "[1, 2, 3, 4]\n"
          ]
        }
      ]
    },
    {
      "cell_type": "markdown",
      "source": [
        "#Advantages of NumPy over Lists\n",
        "\n",
        "*   Python lists mainly work in one dimension, but NumPy arrays can easily handle 2D, 3D, or higher dimensions.NumPy arrays are much faster than Python\n",
        "\n",
        "*   NumPy arrays are much faster than Python lists, especially when working with large amounts of data.\n",
        "*   NumPy arrays take up less space in memory compared to Python lists, making them more efficient.\n",
        "\n",
        "*   NumPy provides many ready-to-use math functions like addition, multiplication, mean, and more, which are not directly available with lists.\n",
        "*   With NumPy, it’s simple to slice, reshape, and perform operations on data without writing long loops.\n",
        "\n",
        "\n",
        "\n",
        "\n",
        "\n",
        "\n",
        "\n",
        "\n"
      ],
      "metadata": {
        "id": "c5ISvQk6ViSY"
      }
    },
    {
      "cell_type": "code",
      "source": [
        "print(' 1D Array')\n",
        "a=np.array([1, 2, 3,])\n",
        "print(a)\n",
        "\n",
        "print('2D Array')\n",
        "b = np.array([[1, 2, 3, 4, 5],\n",
        "[6, 7, 8, 9, 10]])\n",
        "print(b)\n",
        "\n",
        "print(\"3D Array\")\n",
        "c = np.array([[[1,2,3,4,5],\n",
        "              [6,7,8,9,10],\n",
        "              [1,4,6,7,8]]])\n",
        "print(c)"
      ],
      "metadata": {
        "colab": {
          "base_uri": "https://localhost:8080/"
        },
        "id": "dafhBXp2qJ17",
        "outputId": "1f28c870-c7ec-44ce-d65c-7e941d55217f"
      },
      "execution_count": 3,
      "outputs": [
        {
          "output_type": "stream",
          "name": "stdout",
          "text": [
            " 1D Array\n",
            "[1 2 3]\n",
            "2D Array\n",
            "[[ 1  2  3  4  5]\n",
            " [ 6  7  8  9 10]]\n",
            "3D Array\n",
            "[[[ 1  2  3  4  5]\n",
            "  [ 6  7  8  9 10]\n",
            "  [ 1  4  6  7  8]]]\n"
          ]
        }
      ]
    },
    {
      "cell_type": "code",
      "source": [
        "type(a)"
      ],
      "metadata": {
        "colab": {
          "base_uri": "https://localhost:8080/"
        },
        "id": "gsB7qX9D2Kbs",
        "outputId": "c7b36290-0129-445a-a1e2-4da945712f85"
      },
      "execution_count": 4,
      "outputs": [
        {
          "output_type": "execute_result",
          "data": {
            "text/plain": [
              "numpy.ndarray"
            ]
          },
          "metadata": {},
          "execution_count": 4
        }
      ]
    },
    {
      "cell_type": "markdown",
      "source": [
        "#arr.size\n",
        "Size tells the number of elements in the array."
      ],
      "metadata": {
        "id": "lxBPsBgl21Gs"
      }
    },
    {
      "cell_type": "code",
      "source": [
        "a.size"
      ],
      "metadata": {
        "colab": {
          "base_uri": "https://localhost:8080/"
        },
        "id": "echKLzDw2toP",
        "outputId": "52cf8756-e6ee-4f65-f04c-aa42a03c3d60"
      },
      "execution_count": 5,
      "outputs": [
        {
          "output_type": "execute_result",
          "data": {
            "text/plain": [
              "3"
            ]
          },
          "metadata": {},
          "execution_count": 5
        }
      ]
    },
    {
      "cell_type": "code",
      "source": [
        "b.size"
      ],
      "metadata": {
        "colab": {
          "base_uri": "https://localhost:8080/"
        },
        "id": "0PQKLAcj2_m6",
        "outputId": "b77d4ea8-7c47-4d0a-e791-791fa389ea3e"
      },
      "execution_count": 6,
      "outputs": [
        {
          "output_type": "execute_result",
          "data": {
            "text/plain": [
              "10"
            ]
          },
          "metadata": {},
          "execution_count": 6
        }
      ]
    },
    {
      "cell_type": "code",
      "source": [
        "c.size"
      ],
      "metadata": {
        "colab": {
          "base_uri": "https://localhost:8080/"
        },
        "id": "-2CgE6NI3BO4",
        "outputId": "175423dc-66b1-4d58-ea8d-52c5d6addd2f"
      },
      "execution_count": 7,
      "outputs": [
        {
          "output_type": "execute_result",
          "data": {
            "text/plain": [
              "15"
            ]
          },
          "metadata": {},
          "execution_count": 7
        }
      ]
    },
    {
      "cell_type": "markdown",
      "source": [
        "#arr.shape\n",
        "Shape means the arrangement of data as rows and columns in the array."
      ],
      "metadata": {
        "id": "ETxaV-lz3HGi"
      }
    },
    {
      "cell_type": "code",
      "source": [
        "a.shape"
      ],
      "metadata": {
        "colab": {
          "base_uri": "https://localhost:8080/"
        },
        "id": "PPwxHojy3Egz",
        "outputId": "c458945e-2877-4d6f-accb-963a8ca0f0f5"
      },
      "execution_count": 8,
      "outputs": [
        {
          "output_type": "execute_result",
          "data": {
            "text/plain": [
              "(3,)"
            ]
          },
          "metadata": {},
          "execution_count": 8
        }
      ]
    },
    {
      "cell_type": "code",
      "source": [
        "b.shape\n"
      ],
      "metadata": {
        "colab": {
          "base_uri": "https://localhost:8080/"
        },
        "id": "M1nUCez83O9g",
        "outputId": "0fd3e801-8e2d-43e5-ff17-12af13b88dfb"
      },
      "execution_count": 9,
      "outputs": [
        {
          "output_type": "execute_result",
          "data": {
            "text/plain": [
              "(2, 5)"
            ]
          },
          "metadata": {},
          "execution_count": 9
        }
      ]
    },
    {
      "cell_type": "code",
      "source": [
        "c.shape"
      ],
      "metadata": {
        "colab": {
          "base_uri": "https://localhost:8080/"
        },
        "id": "Sj1hOEE43Rwf",
        "outputId": "05f7b065-c867-4201-ab58-22d12ffdbea6"
      },
      "execution_count": 10,
      "outputs": [
        {
          "output_type": "execute_result",
          "data": {
            "text/plain": [
              "(1, 3, 5)"
            ]
          },
          "metadata": {},
          "execution_count": 10
        }
      ]
    },
    {
      "cell_type": "markdown",
      "source": [
        "#arr.dtypes\n",
        "dtype returns the data type of the elements stored in the array.\n"
      ],
      "metadata": {
        "id": "XlxSVhjG3Z50"
      }
    },
    {
      "cell_type": "code",
      "source": [
        "a.dtype"
      ],
      "metadata": {
        "colab": {
          "base_uri": "https://localhost:8080/"
        },
        "id": "fN7f5FFI3WSL",
        "outputId": "1e3be068-c57c-4800-b3fe-1c577c00b539"
      },
      "execution_count": 11,
      "outputs": [
        {
          "output_type": "execute_result",
          "data": {
            "text/plain": [
              "dtype('int64')"
            ]
          },
          "metadata": {},
          "execution_count": 11
        }
      ]
    },
    {
      "cell_type": "code",
      "source": [
        "b.dtype"
      ],
      "metadata": {
        "colab": {
          "base_uri": "https://localhost:8080/"
        },
        "id": "ZYSLxsAD3g3P",
        "outputId": "459500fc-d8f0-434c-e28f-e48edaec7835"
      },
      "execution_count": 12,
      "outputs": [
        {
          "output_type": "execute_result",
          "data": {
            "text/plain": [
              "dtype('int64')"
            ]
          },
          "metadata": {},
          "execution_count": 12
        }
      ]
    },
    {
      "cell_type": "code",
      "source": [
        "c.dtype"
      ],
      "metadata": {
        "colab": {
          "base_uri": "https://localhost:8080/"
        },
        "id": "L_J_j-L-3lD4",
        "outputId": "4d802d67-15c0-491b-abcf-31818bc862dc"
      },
      "execution_count": 13,
      "outputs": [
        {
          "output_type": "execute_result",
          "data": {
            "text/plain": [
              "dtype('int64')"
            ]
          },
          "metadata": {},
          "execution_count": 13
        }
      ]
    },
    {
      "cell_type": "code",
      "source": [
        "d = np.array([[[1,2.0,3,4,5],\n",
        "              [6,7,8,9,10],\n",
        "              [1,4,6,7,8.0,]]])\n",
        "print(d.dtype)"
      ],
      "metadata": {
        "colab": {
          "base_uri": "https://localhost:8080/"
        },
        "id": "VVu5uj2m3mze",
        "outputId": "0f678746-d90f-4d7b-a4d5-4d2e933e0835"
      },
      "execution_count": 14,
      "outputs": [
        {
          "output_type": "stream",
          "name": "stdout",
          "text": [
            "float64\n"
          ]
        }
      ]
    },
    {
      "cell_type": "markdown",
      "source": [
        "#arr.transpose()\n",
        "transpose() converts rows into columns and columns into rows."
      ],
      "metadata": {
        "id": "g6yMOCQt35VH"
      }
    },
    {
      "cell_type": "code",
      "source": [
        "d.transpose()"
      ],
      "metadata": {
        "colab": {
          "base_uri": "https://localhost:8080/"
        },
        "id": "WV3JziK430NB",
        "outputId": "c823882e-5481-4641-ffc7-3e3d48d4c379"
      },
      "execution_count": 15,
      "outputs": [
        {
          "output_type": "execute_result",
          "data": {
            "text/plain": [
              "array([[[ 1.],\n",
              "        [ 6.],\n",
              "        [ 1.]],\n",
              "\n",
              "       [[ 2.],\n",
              "        [ 7.],\n",
              "        [ 4.]],\n",
              "\n",
              "       [[ 3.],\n",
              "        [ 8.],\n",
              "        [ 6.]],\n",
              "\n",
              "       [[ 4.],\n",
              "        [ 9.],\n",
              "        [ 7.]],\n",
              "\n",
              "       [[ 5.],\n",
              "        [10.],\n",
              "        [ 8.]]])"
            ]
          },
          "metadata": {},
          "execution_count": 15
        }
      ]
    },
    {
      "cell_type": "markdown",
      "source": [
        "#np.empty()\n",
        "Syntax : np.empty((rows, cols), dtype)\n",
        "\n",
        "Explanation : empty() creates an empty array of the given shape and data type. The elements in the array are uninitialized and may contain random values.\n",
        "\n"
      ],
      "metadata": {
        "id": "-hzyMq5s4TJn"
      }
    },
    {
      "cell_type": "code",
      "source": [
        "np.empty((4,5),dtype=int)"
      ],
      "metadata": {
        "colab": {
          "base_uri": "https://localhost:8080/"
        },
        "id": "bOM9Pv6t3_8d",
        "outputId": "6e0b28ec-5e03-46cb-cb52-d0e3d5777716"
      },
      "execution_count": 16,
      "outputs": [
        {
          "output_type": "execute_result",
          "data": {
            "text/plain": [
              "array([[                  0,                   0, 4599075939470750515,\n",
              "        4607182418800017408,                   0],\n",
              "       [                  0, 4607182418800017408, 4607182418800017408,\n",
              "        4607182418800017408, 4607182418800017408],\n",
              "       [4607182418800017408, 4607182418800017408, 4607182418800017408,\n",
              "                          0,                   0],\n",
              "       [4607182418800017408, 4602678819172646912,                   0,\n",
              "                          0, 4607182418800017408]])"
            ]
          },
          "metadata": {},
          "execution_count": 16
        }
      ]
    },
    {
      "cell_type": "code",
      "source": [
        "np.empty((4,5),dtype=float)"
      ],
      "metadata": {
        "colab": {
          "base_uri": "https://localhost:8080/"
        },
        "id": "XubzCUla4-t0",
        "outputId": "005118d7-e139-4d93-a6ab-ee7695e24270"
      },
      "execution_count": 17,
      "outputs": [
        {
          "output_type": "execute_result",
          "data": {
            "text/plain": [
              "array([[2.35664708e-315, 0.00000000e+000, 0.00000000e+000,\n",
              "        0.00000000e+000, 0.00000000e+000],\n",
              "       [0.00000000e+000, 0.00000000e+000, 0.00000000e+000,\n",
              "        0.00000000e+000, 0.00000000e+000],\n",
              "       [0.00000000e+000, 0.00000000e+000, 0.00000000e+000,\n",
              "        0.00000000e+000, 0.00000000e+000],\n",
              "       [0.00000000e+000, 0.00000000e+000, 0.00000000e+000,\n",
              "        0.00000000e+000, 0.00000000e+000]])"
            ]
          },
          "metadata": {},
          "execution_count": 17
        }
      ]
    },
    {
      "cell_type": "markdown",
      "source": [
        "#np.ones()\n",
        "Syntax : np.ones((rows, cols), dtype)\n",
        "\n",
        "Explanation : np.ones() creates an array of the given shape and data type, filled with all ones.\n",
        "\n"
      ],
      "metadata": {
        "id": "znDbYnXE5NQc"
      }
    },
    {
      "cell_type": "code",
      "source": [
        "np.ones((6),dtype =int)"
      ],
      "metadata": {
        "colab": {
          "base_uri": "https://localhost:8080/"
        },
        "id": "Paj4WZRZ5KYG",
        "outputId": "2a6f5d10-da29-42ab-9b53-c2ae3096f29f"
      },
      "execution_count": 18,
      "outputs": [
        {
          "output_type": "execute_result",
          "data": {
            "text/plain": [
              "array([1, 1, 1, 1, 1, 1])"
            ]
          },
          "metadata": {},
          "execution_count": 18
        }
      ]
    },
    {
      "cell_type": "code",
      "source": [
        "np.ones((3,2),dtype =int)"
      ],
      "metadata": {
        "colab": {
          "base_uri": "https://localhost:8080/"
        },
        "id": "GXjxKN5g5cDO",
        "outputId": "3cc6760f-505e-45e9-f6cc-a01f6b773549"
      },
      "execution_count": 19,
      "outputs": [
        {
          "output_type": "execute_result",
          "data": {
            "text/plain": [
              "array([[1, 1],\n",
              "       [1, 1],\n",
              "       [1, 1]])"
            ]
          },
          "metadata": {},
          "execution_count": 19
        }
      ]
    },
    {
      "cell_type": "code",
      "source": [
        "np.ones((3,2),dtype =str)"
      ],
      "metadata": {
        "colab": {
          "base_uri": "https://localhost:8080/"
        },
        "id": "eFYSaz1856Eu",
        "outputId": "07691119-36c3-42d6-f5d8-ce3cbae6c970"
      },
      "execution_count": 20,
      "outputs": [
        {
          "output_type": "execute_result",
          "data": {
            "text/plain": [
              "array([['1', '1'],\n",
              "       ['1', '1'],\n",
              "       ['1', '1']], dtype='<U1')"
            ]
          },
          "metadata": {},
          "execution_count": 20
        }
      ]
    },
    {
      "cell_type": "code",
      "source": [
        "np.ones((3,2),dtype =bool)"
      ],
      "metadata": {
        "colab": {
          "base_uri": "https://localhost:8080/"
        },
        "id": "Ae0xALb16E4d",
        "outputId": "2acac65e-82fd-4bad-f379-702d75ac4040"
      },
      "execution_count": 21,
      "outputs": [
        {
          "output_type": "execute_result",
          "data": {
            "text/plain": [
              "array([[ True,  True],\n",
              "       [ True,  True],\n",
              "       [ True,  True]])"
            ]
          },
          "metadata": {},
          "execution_count": 21
        }
      ]
    },
    {
      "cell_type": "code",
      "source": [
        "np.ones((6),dtype =float)"
      ],
      "metadata": {
        "colab": {
          "base_uri": "https://localhost:8080/"
        },
        "id": "WXN-tPFZ5hEc",
        "outputId": "75644352-b8f2-4851-f814-228e5998ff15"
      },
      "execution_count": 22,
      "outputs": [
        {
          "output_type": "execute_result",
          "data": {
            "text/plain": [
              "array([1., 1., 1., 1., 1., 1.])"
            ]
          },
          "metadata": {},
          "execution_count": 22
        }
      ]
    },
    {
      "cell_type": "markdown",
      "source": [
        "#np.zeros()\n",
        "Syntax : np.zeros((rows, cols), dtype)\n",
        "\n",
        "Explanation : np.zeros() creates an array of the given shape and data type, filled with all zeros."
      ],
      "metadata": {
        "id": "Kd-kSbNn5kzj"
      }
    },
    {
      "cell_type": "code",
      "source": [
        "np.zeros((6),dtype =float)"
      ],
      "metadata": {
        "colab": {
          "base_uri": "https://localhost:8080/"
        },
        "id": "uexOanE25jQ8",
        "outputId": "37feba23-a50f-40f6-9c84-77b2df296a6a"
      },
      "execution_count": 23,
      "outputs": [
        {
          "output_type": "execute_result",
          "data": {
            "text/plain": [
              "array([0., 0., 0., 0., 0., 0.])"
            ]
          },
          "metadata": {},
          "execution_count": 23
        }
      ]
    },
    {
      "cell_type": "code",
      "source": [
        "np.zeros((3,2),dtype =int)"
      ],
      "metadata": {
        "colab": {
          "base_uri": "https://localhost:8080/"
        },
        "id": "iGlgNmHC5snB",
        "outputId": "edfba274-e337-4724-ca7f-e3213b5afdda"
      },
      "execution_count": 24,
      "outputs": [
        {
          "output_type": "execute_result",
          "data": {
            "text/plain": [
              "array([[0, 0],\n",
              "       [0, 0],\n",
              "       [0, 0]])"
            ]
          },
          "metadata": {},
          "execution_count": 24
        }
      ]
    },
    {
      "cell_type": "code",
      "source": [
        "np.zeros((3,2),dtype =str)"
      ],
      "metadata": {
        "colab": {
          "base_uri": "https://localhost:8080/"
        },
        "id": "jlNCbGgZ5vwn",
        "outputId": "3ba3e523-7497-4af7-da57-102b7c8dffcb"
      },
      "execution_count": 25,
      "outputs": [
        {
          "output_type": "execute_result",
          "data": {
            "text/plain": [
              "array([['', ''],\n",
              "       ['', ''],\n",
              "       ['', '']], dtype='<U1')"
            ]
          },
          "metadata": {},
          "execution_count": 25
        }
      ]
    },
    {
      "cell_type": "code",
      "source": [
        "np.zeros((3,2),dtype =bool)"
      ],
      "metadata": {
        "colab": {
          "base_uri": "https://localhost:8080/"
        },
        "id": "e8IqUrnM521p",
        "outputId": "ceadd168-8d65-4f32-cb4f-c89a26b0a9cb"
      },
      "execution_count": 26,
      "outputs": [
        {
          "output_type": "execute_result",
          "data": {
            "text/plain": [
              "array([[False, False],\n",
              "       [False, False],\n",
              "       [False, False]])"
            ]
          },
          "metadata": {},
          "execution_count": 26
        }
      ]
    },
    {
      "cell_type": "markdown",
      "source": [
        "#np.arange()\n",
        "Syntax : np.arange(start, end, step)\n",
        "\n",
        "Explanation : np.arange() creates an array with values starting from start to end - 1, with a common difference of step."
      ],
      "metadata": {
        "id": "4lBoQUdj6RpH"
      }
    },
    {
      "cell_type": "code",
      "source": [
        "a= np.arange(1,20)\n",
        "print(a)"
      ],
      "metadata": {
        "colab": {
          "base_uri": "https://localhost:8080/"
        },
        "id": "qMEIJZc76DBd",
        "outputId": "06a89fe5-6335-4849-dc78-3e2fc5334028"
      },
      "execution_count": 27,
      "outputs": [
        {
          "output_type": "stream",
          "name": "stdout",
          "text": [
            "[ 1  2  3  4  5  6  7  8  9 10 11 12 13 14 15 16 17 18 19]\n"
          ]
        }
      ]
    },
    {
      "cell_type": "code",
      "source": [
        "a= np.arange(1,20,5)\n",
        "print(a)"
      ],
      "metadata": {
        "colab": {
          "base_uri": "https://localhost:8080/"
        },
        "id": "-ybDhv-r6coK",
        "outputId": "e6e8e626-dedd-4969-9feb-9102441e7057"
      },
      "execution_count": 28,
      "outputs": [
        {
          "output_type": "stream",
          "name": "stdout",
          "text": [
            "[ 1  6 11 16]\n"
          ]
        }
      ]
    },
    {
      "cell_type": "code",
      "source": [
        "a= np.arange(1,20,2)  #odd number\n",
        "print(a)"
      ],
      "metadata": {
        "colab": {
          "base_uri": "https://localhost:8080/"
        },
        "id": "TylN7avX6k6S",
        "outputId": "c3e84065-aab3-4a3e-b168-46522d43e8d0"
      },
      "execution_count": 29,
      "outputs": [
        {
          "output_type": "stream",
          "name": "stdout",
          "text": [
            "[ 1  3  5  7  9 11 13 15 17 19]\n"
          ]
        }
      ]
    },
    {
      "cell_type": "code",
      "source": [
        "a= np.arange(2,20,2)   #even number\n",
        "print(a)"
      ],
      "metadata": {
        "colab": {
          "base_uri": "https://localhost:8080/"
        },
        "id": "AecD5D_e6sO_",
        "outputId": "ec36914f-6851-4b68-970d-4e6abc577940"
      },
      "execution_count": 30,
      "outputs": [
        {
          "output_type": "stream",
          "name": "stdout",
          "text": [
            "[ 2  4  6  8 10 12 14 16 18]\n"
          ]
        }
      ]
    },
    {
      "cell_type": "code",
      "source": [
        "b = np.arange(1,180,2)\n",
        "b"
      ],
      "metadata": {
        "colab": {
          "base_uri": "https://localhost:8080/"
        },
        "id": "FjfxeePO7RBy",
        "outputId": "08fbf20e-7522-4cad-9d6d-e510f3bccd92"
      },
      "execution_count": 31,
      "outputs": [
        {
          "output_type": "execute_result",
          "data": {
            "text/plain": [
              "array([  1,   3,   5,   7,   9,  11,  13,  15,  17,  19,  21,  23,  25,\n",
              "        27,  29,  31,  33,  35,  37,  39,  41,  43,  45,  47,  49,  51,\n",
              "        53,  55,  57,  59,  61,  63,  65,  67,  69,  71,  73,  75,  77,\n",
              "        79,  81,  83,  85,  87,  89,  91,  93,  95,  97,  99, 101, 103,\n",
              "       105, 107, 109, 111, 113, 115, 117, 119, 121, 123, 125, 127, 129,\n",
              "       131, 133, 135, 137, 139, 141, 143, 145, 147, 149, 151, 153, 155,\n",
              "       157, 159, 161, 163, 165, 167, 169, 171, 173, 175, 177, 179])"
            ]
          },
          "metadata": {},
          "execution_count": 31
        }
      ]
    },
    {
      "cell_type": "markdown",
      "source": [
        "#arr.reshape()\n",
        "Syntax : arr.reshape((rows, cols))\n",
        "\n",
        "Explanation : reshape() changes the shape of the array without changing its data. It rearranges the elements into the specified number of rows and columns."
      ],
      "metadata": {
        "id": "ufpWC4qM6y39"
      }
    },
    {
      "cell_type": "code",
      "source": [
        "a.reshape((3,3))"
      ],
      "metadata": {
        "colab": {
          "base_uri": "https://localhost:8080/"
        },
        "id": "1RuTKI9W6wDM",
        "outputId": "9b8809b2-04ce-4509-aaff-fe428dbfc30d"
      },
      "execution_count": 32,
      "outputs": [
        {
          "output_type": "execute_result",
          "data": {
            "text/plain": [
              "array([[ 2,  4,  6],\n",
              "       [ 8, 10, 12],\n",
              "       [14, 16, 18]])"
            ]
          },
          "metadata": {},
          "execution_count": 32
        }
      ]
    },
    {
      "cell_type": "code",
      "source": [
        "b.reshape((10,9))"
      ],
      "metadata": {
        "colab": {
          "base_uri": "https://localhost:8080/"
        },
        "id": "mX7d3R_j69VR",
        "outputId": "ca2a09fb-f777-419c-cb72-d7c6511c9385"
      },
      "execution_count": 33,
      "outputs": [
        {
          "output_type": "execute_result",
          "data": {
            "text/plain": [
              "array([[  1,   3,   5,   7,   9,  11,  13,  15,  17],\n",
              "       [ 19,  21,  23,  25,  27,  29,  31,  33,  35],\n",
              "       [ 37,  39,  41,  43,  45,  47,  49,  51,  53],\n",
              "       [ 55,  57,  59,  61,  63,  65,  67,  69,  71],\n",
              "       [ 73,  75,  77,  79,  81,  83,  85,  87,  89],\n",
              "       [ 91,  93,  95,  97,  99, 101, 103, 105, 107],\n",
              "       [109, 111, 113, 115, 117, 119, 121, 123, 125],\n",
              "       [127, 129, 131, 133, 135, 137, 139, 141, 143],\n",
              "       [145, 147, 149, 151, 153, 155, 157, 159, 161],\n",
              "       [163, 165, 167, 169, 171, 173, 175, 177, 179]])"
            ]
          },
          "metadata": {},
          "execution_count": 33
        }
      ]
    },
    {
      "cell_type": "markdown",
      "source": [
        "#arr.flatten()\n",
        "flatten() is used to convert a multi-dimensional array into a one-dimensional array.\n",
        "\n",
        "Explanation:\n",
        "\n",
        "(i) Returns a copy of the original array.\n",
        "\n",
        "(ii) If you modify this array, the original array is not affected.\n",
        "\n",
        "(iii) flatten() is slower than ravel() because it uses extra memory.\n",
        "\n",
        "(iv) flatten() is a method of the ndarray object."
      ],
      "metadata": {
        "id": "iHCzmiDXZTy3"
      }
    },
    {
      "cell_type": "code",
      "source": [
        "b.flatten     #multi dimensional into one dimension\n",
        "b"
      ],
      "metadata": {
        "colab": {
          "base_uri": "https://localhost:8080/"
        },
        "id": "4U01UdjC7iYc",
        "outputId": "83f4c23c-4de0-49a4-df70-bd62f418a61c"
      },
      "execution_count": 34,
      "outputs": [
        {
          "output_type": "execute_result",
          "data": {
            "text/plain": [
              "array([  1,   3,   5,   7,   9,  11,  13,  15,  17,  19,  21,  23,  25,\n",
              "        27,  29,  31,  33,  35,  37,  39,  41,  43,  45,  47,  49,  51,\n",
              "        53,  55,  57,  59,  61,  63,  65,  67,  69,  71,  73,  75,  77,\n",
              "        79,  81,  83,  85,  87,  89,  91,  93,  95,  97,  99, 101, 103,\n",
              "       105, 107, 109, 111, 113, 115, 117, 119, 121, 123, 125, 127, 129,\n",
              "       131, 133, 135, 137, 139, 141, 143, 145, 147, 149, 151, 153, 155,\n",
              "       157, 159, 161, 163, 165, 167, 169, 171, 173, 175, 177, 179])"
            ]
          },
          "metadata": {},
          "execution_count": 34
        }
      ]
    },
    {
      "cell_type": "markdown",
      "source": [
        "#arr.ravel()\n",
        "\n",
        "ravel() is used to convert a multi-dimensional array into a one-dimensional array\n",
        "\n",
        "Explanation:\n",
        "\n",
        "(i) Returns a reference (view) of the original array.\n",
        "\n",
        "(ii) If you modify this array, the original array will also change.\n",
        "\n",
        "(iii) ravel() is faster than flatten() because it does not create extra memory.\n",
        "\n",
        "(iv) ravel() is a library-level function."
      ],
      "metadata": {
        "id": "dymZPCMTZNfo"
      }
    },
    {
      "cell_type": "code",
      "source": [
        "a.ravel\n",
        "a"
      ],
      "metadata": {
        "colab": {
          "base_uri": "https://localhost:8080/"
        },
        "id": "6W4YBpqP7wj3",
        "outputId": "607e2ad0-e414-4575-9b3c-0292c1939410"
      },
      "execution_count": 35,
      "outputs": [
        {
          "output_type": "execute_result",
          "data": {
            "text/plain": [
              "array([ 2,  4,  6,  8, 10, 12, 14, 16, 18])"
            ]
          },
          "metadata": {},
          "execution_count": 35
        }
      ]
    },
    {
      "cell_type": "code",
      "source": [
        "a = np.arange(1,51)\n",
        "a = a.reshape(10,5)\n",
        "a"
      ],
      "metadata": {
        "colab": {
          "base_uri": "https://localhost:8080/"
        },
        "id": "2leSCJyS8_n2",
        "outputId": "e7001c20-a877-4e87-f739-93d105a720a5"
      },
      "execution_count": 36,
      "outputs": [
        {
          "output_type": "execute_result",
          "data": {
            "text/plain": [
              "array([[ 1,  2,  3,  4,  5],\n",
              "       [ 6,  7,  8,  9, 10],\n",
              "       [11, 12, 13, 14, 15],\n",
              "       [16, 17, 18, 19, 20],\n",
              "       [21, 22, 23, 24, 25],\n",
              "       [26, 27, 28, 29, 30],\n",
              "       [31, 32, 33, 34, 35],\n",
              "       [36, 37, 38, 39, 40],\n",
              "       [41, 42, 43, 44, 45],\n",
              "       [46, 47, 48, 49, 50]])"
            ]
          },
          "metadata": {},
          "execution_count": 36
        }
      ]
    },
    {
      "cell_type": "code",
      "source": [
        "a[0]"
      ],
      "metadata": {
        "colab": {
          "base_uri": "https://localhost:8080/"
        },
        "id": "5fKm-Dbd9Gja",
        "outputId": "6020a06c-e9a2-4768-d9cf-10104e765b08"
      },
      "execution_count": 37,
      "outputs": [
        {
          "output_type": "execute_result",
          "data": {
            "text/plain": [
              "array([1, 2, 3, 4, 5])"
            ]
          },
          "metadata": {},
          "execution_count": 37
        }
      ]
    },
    {
      "cell_type": "code",
      "source": [
        "a[1]"
      ],
      "metadata": {
        "colab": {
          "base_uri": "https://localhost:8080/"
        },
        "id": "RkxtxHTe9NJc",
        "outputId": "927e99c8-8716-47c3-a59d-32c95839748a"
      },
      "execution_count": 38,
      "outputs": [
        {
          "output_type": "execute_result",
          "data": {
            "text/plain": [
              "array([ 6,  7,  8,  9, 10])"
            ]
          },
          "metadata": {},
          "execution_count": 38
        }
      ]
    },
    {
      "cell_type": "code",
      "source": [
        "a[2]"
      ],
      "metadata": {
        "colab": {
          "base_uri": "https://localhost:8080/"
        },
        "id": "CDwEhQMU9P8P",
        "outputId": "1039a78d-4846-49bd-9459-a7de08670f83"
      },
      "execution_count": 39,
      "outputs": [
        {
          "output_type": "execute_result",
          "data": {
            "text/plain": [
              "array([11, 12, 13, 14, 15])"
            ]
          },
          "metadata": {},
          "execution_count": 39
        }
      ]
    },
    {
      "cell_type": "code",
      "source": [
        "a[0][0]"
      ],
      "metadata": {
        "colab": {
          "base_uri": "https://localhost:8080/"
        },
        "id": "3XcpaE-_9SZj",
        "outputId": "e73caa16-c612-4480-e939-c110c5c982aa"
      },
      "execution_count": 40,
      "outputs": [
        {
          "output_type": "execute_result",
          "data": {
            "text/plain": [
              "np.int64(1)"
            ]
          },
          "metadata": {},
          "execution_count": 40
        }
      ]
    },
    {
      "cell_type": "code",
      "source": [
        "a[5][1]"
      ],
      "metadata": {
        "colab": {
          "base_uri": "https://localhost:8080/"
        },
        "id": "fz5OZugw9Vem",
        "outputId": "02ba6062-3f43-474b-82a1-a2278665d384"
      },
      "execution_count": 41,
      "outputs": [
        {
          "output_type": "execute_result",
          "data": {
            "text/plain": [
              "np.int64(27)"
            ]
          },
          "metadata": {},
          "execution_count": 41
        }
      ]
    },
    {
      "cell_type": "code",
      "source": [
        "a[5,1]"
      ],
      "metadata": {
        "colab": {
          "base_uri": "https://localhost:8080/"
        },
        "id": "QGCld1Pn9X4L",
        "outputId": "28f8523c-94d5-4ce2-862c-03241deacf3f"
      },
      "execution_count": 42,
      "outputs": [
        {
          "output_type": "execute_result",
          "data": {
            "text/plain": [
              "np.int64(27)"
            ]
          },
          "metadata": {},
          "execution_count": 42
        }
      ]
    },
    {
      "cell_type": "code",
      "source": [
        "a[2:5]   #slicing(start:stop:step)"
      ],
      "metadata": {
        "colab": {
          "base_uri": "https://localhost:8080/"
        },
        "id": "GB0V3DiV9ado",
        "outputId": "53e04937-c642-4c8b-97d3-f68586cbcbf6"
      },
      "execution_count": 43,
      "outputs": [
        {
          "output_type": "execute_result",
          "data": {
            "text/plain": [
              "array([[11, 12, 13, 14, 15],\n",
              "       [16, 17, 18, 19, 20],\n",
              "       [21, 22, 23, 24, 25]])"
            ]
          },
          "metadata": {},
          "execution_count": 43
        }
      ]
    },
    {
      "cell_type": "code",
      "source": [
        "a[2:5:2]"
      ],
      "metadata": {
        "colab": {
          "base_uri": "https://localhost:8080/"
        },
        "id": "81JV1EK79f6O",
        "outputId": "426881ec-06a2-4fec-81f4-9d8654157d89"
      },
      "execution_count": 44,
      "outputs": [
        {
          "output_type": "execute_result",
          "data": {
            "text/plain": [
              "array([[11, 12, 13, 14, 15],\n",
              "       [21, 22, 23, 24, 25]])"
            ]
          },
          "metadata": {},
          "execution_count": 44
        }
      ]
    },
    {
      "cell_type": "code",
      "source": [
        "a[0:10]   #all elements\n"
      ],
      "metadata": {
        "colab": {
          "base_uri": "https://localhost:8080/"
        },
        "id": "8dmo3IDU9m22",
        "outputId": "42009219-e757-47b8-837b-67c0818c16a4"
      },
      "execution_count": 45,
      "outputs": [
        {
          "output_type": "execute_result",
          "data": {
            "text/plain": [
              "array([[ 1,  2,  3,  4,  5],\n",
              "       [ 6,  7,  8,  9, 10],\n",
              "       [11, 12, 13, 14, 15],\n",
              "       [16, 17, 18, 19, 20],\n",
              "       [21, 22, 23, 24, 25],\n",
              "       [26, 27, 28, 29, 30],\n",
              "       [31, 32, 33, 34, 35],\n",
              "       [36, 37, 38, 39, 40],\n",
              "       [41, 42, 43, 44, 45],\n",
              "       [46, 47, 48, 49, 50]])"
            ]
          },
          "metadata": {},
          "execution_count": 45
        }
      ]
    },
    {
      "cell_type": "code",
      "source": [
        "a[:2 ]"
      ],
      "metadata": {
        "colab": {
          "base_uri": "https://localhost:8080/"
        },
        "id": "1X0pZJ_49r3w",
        "outputId": "62fe9916-18f4-41c1-8956-437a16beb80b"
      },
      "execution_count": 46,
      "outputs": [
        {
          "output_type": "execute_result",
          "data": {
            "text/plain": [
              "array([[ 1,  2,  3,  4,  5],\n",
              "       [ 6,  7,  8,  9, 10]])"
            ]
          },
          "metadata": {},
          "execution_count": 46
        }
      ]
    },
    {
      "cell_type": "code",
      "source": [
        "a[::]"
      ],
      "metadata": {
        "colab": {
          "base_uri": "https://localhost:8080/"
        },
        "id": "ANogDj6996v1",
        "outputId": "67c806ee-0c62-4747-da6b-5babceaab088"
      },
      "execution_count": 47,
      "outputs": [
        {
          "output_type": "execute_result",
          "data": {
            "text/plain": [
              "array([[ 1,  2,  3,  4,  5],\n",
              "       [ 6,  7,  8,  9, 10],\n",
              "       [11, 12, 13, 14, 15],\n",
              "       [16, 17, 18, 19, 20],\n",
              "       [21, 22, 23, 24, 25],\n",
              "       [26, 27, 28, 29, 30],\n",
              "       [31, 32, 33, 34, 35],\n",
              "       [36, 37, 38, 39, 40],\n",
              "       [41, 42, 43, 44, 45],\n",
              "       [46, 47, 48, 49, 50]])"
            ]
          },
          "metadata": {},
          "execution_count": 47
        }
      ]
    },
    {
      "cell_type": "code",
      "source": [
        "a[::5]"
      ],
      "metadata": {
        "colab": {
          "base_uri": "https://localhost:8080/"
        },
        "id": "ydIQiLtl99ZU",
        "outputId": "29a438f8-46cf-4322-9a18-4d1547ed54e6"
      },
      "execution_count": 48,
      "outputs": [
        {
          "output_type": "execute_result",
          "data": {
            "text/plain": [
              "array([[ 1,  2,  3,  4,  5],\n",
              "       [26, 27, 28, 29, 30]])"
            ]
          },
          "metadata": {},
          "execution_count": 48
        }
      ]
    },
    {
      "cell_type": "code",
      "source": [
        "a[2:5,4]"
      ],
      "metadata": {
        "colab": {
          "base_uri": "https://localhost:8080/"
        },
        "id": "_bBwf6gW-Azd",
        "outputId": "f1b5eb04-e980-4ca2-cc57-1cbd46fd5498"
      },
      "execution_count": 49,
      "outputs": [
        {
          "output_type": "execute_result",
          "data": {
            "text/plain": [
              "array([15, 20, 25])"
            ]
          },
          "metadata": {},
          "execution_count": 49
        }
      ]
    },
    {
      "cell_type": "code",
      "source": [
        "a[:,2:5]"
      ],
      "metadata": {
        "colab": {
          "base_uri": "https://localhost:8080/"
        },
        "id": "7FtGu8mo-LZ6",
        "outputId": "9d4de5b7-b358-41c8-a771-56bd0e850181"
      },
      "execution_count": 50,
      "outputs": [
        {
          "output_type": "execute_result",
          "data": {
            "text/plain": [
              "array([[ 3,  4,  5],\n",
              "       [ 8,  9, 10],\n",
              "       [13, 14, 15],\n",
              "       [18, 19, 20],\n",
              "       [23, 24, 25],\n",
              "       [28, 29, 30],\n",
              "       [33, 34, 35],\n",
              "       [38, 39, 40],\n",
              "       [43, 44, 45],\n",
              "       [48, 49, 50]])"
            ]
          },
          "metadata": {},
          "execution_count": 50
        }
      ]
    },
    {
      "cell_type": "code",
      "source": [
        "a[:,2:5].dtype"
      ],
      "metadata": {
        "colab": {
          "base_uri": "https://localhost:8080/"
        },
        "id": "dijnrJbn-Uos",
        "outputId": "3a211b9a-9f85-44e9-e3f7-e9e0f45d7158"
      },
      "execution_count": 51,
      "outputs": [
        {
          "output_type": "execute_result",
          "data": {
            "text/plain": [
              "dtype('int64')"
            ]
          },
          "metadata": {},
          "execution_count": 51
        }
      ]
    },
    {
      "cell_type": "code",
      "source": [
        "a[::5].dtype"
      ],
      "metadata": {
        "colab": {
          "base_uri": "https://localhost:8080/"
        },
        "id": "O7uaeO2s-khi",
        "outputId": "e7cec746-9860-4cd6-ab4a-16b2eb879433"
      },
      "execution_count": 52,
      "outputs": [
        {
          "output_type": "execute_result",
          "data": {
            "text/plain": [
              "dtype('int64')"
            ]
          },
          "metadata": {},
          "execution_count": 52
        }
      ]
    },
    {
      "cell_type": "code",
      "source": [
        "a[::].dtype"
      ],
      "metadata": {
        "colab": {
          "base_uri": "https://localhost:8080/"
        },
        "id": "J7PbBzDD-nvu",
        "outputId": "6a73a784-5c11-4a5b-d1e9-0b9b604e21d7"
      },
      "execution_count": 53,
      "outputs": [
        {
          "output_type": "execute_result",
          "data": {
            "text/plain": [
              "dtype('int64')"
            ]
          },
          "metadata": {},
          "execution_count": 53
        }
      ]
    },
    {
      "cell_type": "code",
      "source": [
        "a = np.arange(0, 18).reshape((6,3))\n",
        "b = np.arange(20, 38).reshape((6,3))\n",
        "print(a)\n",
        "print(b)"
      ],
      "metadata": {
        "colab": {
          "base_uri": "https://localhost:8080/"
        },
        "id": "qsGEFBxr-qaA",
        "outputId": "2f46dfcb-5610-40ce-8a03-cf447453fdd8"
      },
      "execution_count": 54,
      "outputs": [
        {
          "output_type": "stream",
          "name": "stdout",
          "text": [
            "[[ 0  1  2]\n",
            " [ 3  4  5]\n",
            " [ 6  7  8]\n",
            " [ 9 10 11]\n",
            " [12 13 14]\n",
            " [15 16 17]]\n",
            "[[20 21 22]\n",
            " [23 24 25]\n",
            " [26 27 28]\n",
            " [29 30 31]\n",
            " [32 33 34]\n",
            " [35 36 37]]\n"
          ]
        }
      ]
    },
    {
      "cell_type": "code",
      "source": [
        "a+b   #identical index are being added"
      ],
      "metadata": {
        "colab": {
          "base_uri": "https://localhost:8080/"
        },
        "id": "JtXxt6RV-6q1",
        "outputId": "5dacc4e3-e4f2-4d9e-dd00-f07f354fb000"
      },
      "execution_count": 55,
      "outputs": [
        {
          "output_type": "execute_result",
          "data": {
            "text/plain": [
              "array([[20, 22, 24],\n",
              "       [26, 28, 30],\n",
              "       [32, 34, 36],\n",
              "       [38, 40, 42],\n",
              "       [44, 46, 48],\n",
              "       [50, 52, 54]])"
            ]
          },
          "metadata": {},
          "execution_count": 55
        }
      ]
    },
    {
      "cell_type": "code",
      "source": [
        "np.add(a,b)"
      ],
      "metadata": {
        "colab": {
          "base_uri": "https://localhost:8080/"
        },
        "id": "tTv2cymC_GxI",
        "outputId": "83dd1b7b-31e8-4ecb-b0ea-4a77dddef964"
      },
      "execution_count": 56,
      "outputs": [
        {
          "output_type": "execute_result",
          "data": {
            "text/plain": [
              "array([[20, 22, 24],\n",
              "       [26, 28, 30],\n",
              "       [32, 34, 36],\n",
              "       [38, 40, 42],\n",
              "       [44, 46, 48],\n",
              "       [50, 52, 54]])"
            ]
          },
          "metadata": {},
          "execution_count": 56
        }
      ]
    },
    {
      "cell_type": "code",
      "source": [
        "a-b"
      ],
      "metadata": {
        "colab": {
          "base_uri": "https://localhost:8080/"
        },
        "id": "z0ETCusk_NA0",
        "outputId": "bdd36db7-afb9-44cd-fb5a-91f6d6c67d1f"
      },
      "execution_count": 57,
      "outputs": [
        {
          "output_type": "execute_result",
          "data": {
            "text/plain": [
              "array([[-20, -20, -20],\n",
              "       [-20, -20, -20],\n",
              "       [-20, -20, -20],\n",
              "       [-20, -20, -20],\n",
              "       [-20, -20, -20],\n",
              "       [-20, -20, -20]])"
            ]
          },
          "metadata": {},
          "execution_count": 57
        }
      ]
    },
    {
      "cell_type": "code",
      "source": [
        "np.subtract(a,b)"
      ],
      "metadata": {
        "colab": {
          "base_uri": "https://localhost:8080/"
        },
        "id": "gOfn6_Fh_PIS",
        "outputId": "030ab892-7b1e-40ff-d5bc-c35d13223d3a"
      },
      "execution_count": 58,
      "outputs": [
        {
          "output_type": "execute_result",
          "data": {
            "text/plain": [
              "array([[-20, -20, -20],\n",
              "       [-20, -20, -20],\n",
              "       [-20, -20, -20],\n",
              "       [-20, -20, -20],\n",
              "       [-20, -20, -20],\n",
              "       [-20, -20, -20]])"
            ]
          },
          "metadata": {},
          "execution_count": 58
        }
      ]
    },
    {
      "cell_type": "code",
      "source": [
        "a*b     #idetical index are multiplied"
      ],
      "metadata": {
        "colab": {
          "base_uri": "https://localhost:8080/"
        },
        "id": "9paT27zf_UTI",
        "outputId": "36aa6a21-46d6-4080-bdc9-4503cdc2140f"
      },
      "execution_count": 59,
      "outputs": [
        {
          "output_type": "execute_result",
          "data": {
            "text/plain": [
              "array([[  0,  21,  44],\n",
              "       [ 69,  96, 125],\n",
              "       [156, 189, 224],\n",
              "       [261, 300, 341],\n",
              "       [384, 429, 476],\n",
              "       [525, 576, 629]])"
            ]
          },
          "metadata": {},
          "execution_count": 59
        }
      ]
    },
    {
      "cell_type": "code",
      "source": [
        "np.multiply(a,b)"
      ],
      "metadata": {
        "colab": {
          "base_uri": "https://localhost:8080/"
        },
        "id": "k3w241yk_Wcw",
        "outputId": "8b9efc0b-a040-4a72-8372-5b3c239cbc99"
      },
      "execution_count": 60,
      "outputs": [
        {
          "output_type": "execute_result",
          "data": {
            "text/plain": [
              "array([[  0,  21,  44],\n",
              "       [ 69,  96, 125],\n",
              "       [156, 189, 224],\n",
              "       [261, 300, 341],\n",
              "       [384, 429, 476],\n",
              "       [525, 576, 629]])"
            ]
          },
          "metadata": {},
          "execution_count": 60
        }
      ]
    },
    {
      "cell_type": "code",
      "source": [
        "a/b"
      ],
      "metadata": {
        "colab": {
          "base_uri": "https://localhost:8080/"
        },
        "id": "mrCVX9KS_hTP",
        "outputId": "85e77dda-f77e-44ca-a975-be577c42aff7"
      },
      "execution_count": 61,
      "outputs": [
        {
          "output_type": "execute_result",
          "data": {
            "text/plain": [
              "array([[0.        , 0.04761905, 0.09090909],\n",
              "       [0.13043478, 0.16666667, 0.2       ],\n",
              "       [0.23076923, 0.25925926, 0.28571429],\n",
              "       [0.31034483, 0.33333333, 0.35483871],\n",
              "       [0.375     , 0.39393939, 0.41176471],\n",
              "       [0.42857143, 0.44444444, 0.45945946]])"
            ]
          },
          "metadata": {},
          "execution_count": 61
        }
      ]
    },
    {
      "cell_type": "code",
      "source": [
        "np.divide(a,b)"
      ],
      "metadata": {
        "colab": {
          "base_uri": "https://localhost:8080/"
        },
        "id": "hOT9GbVS_iv2",
        "outputId": "02872954-a129-499b-a994-d947129c9f38"
      },
      "execution_count": 62,
      "outputs": [
        {
          "output_type": "execute_result",
          "data": {
            "text/plain": [
              "array([[0.        , 0.04761905, 0.09090909],\n",
              "       [0.13043478, 0.16666667, 0.2       ],\n",
              "       [0.23076923, 0.25925926, 0.28571429],\n",
              "       [0.31034483, 0.33333333, 0.35483871],\n",
              "       [0.375     , 0.39393939, 0.41176471],\n",
              "       [0.42857143, 0.44444444, 0.45945946]])"
            ]
          },
          "metadata": {},
          "execution_count": 62
        }
      ]
    },
    {
      "cell_type": "code",
      "source": [
        "a@b  #matrics multiplication"
      ],
      "metadata": {
        "colab": {
          "base_uri": "https://localhost:8080/",
          "height": 141
        },
        "id": "MnuYla6c_l_W",
        "outputId": "de8a8578-d99f-40fe-8c59-7db837ca0f9a"
      },
      "execution_count": 63,
      "outputs": [
        {
          "output_type": "error",
          "ename": "ValueError",
          "evalue": "matmul: Input operand 1 has a mismatch in its core dimension 0, with gufunc signature (n?,k),(k,m?)->(n?,m?) (size 6 is different from 3)",
          "traceback": [
            "\u001b[0;31m---------------------------------------------------------------------------\u001b[0m",
            "\u001b[0;31mValueError\u001b[0m                                Traceback (most recent call last)",
            "\u001b[0;32m<ipython-input-63-1557686906>\u001b[0m in \u001b[0;36m<cell line: 0>\u001b[0;34m()\u001b[0m\n\u001b[0;32m----> 1\u001b[0;31m \u001b[0ma\u001b[0m\u001b[0;34m@\u001b[0m\u001b[0mb\u001b[0m  \u001b[0;31m#matrics multiplication\u001b[0m\u001b[0;34m\u001b[0m\u001b[0;34m\u001b[0m\u001b[0m\n\u001b[0m",
            "\u001b[0;31mValueError\u001b[0m: matmul: Input operand 1 has a mismatch in its core dimension 0, with gufunc signature (n?,k),(k,m?)->(n?,m?) (size 6 is different from 3)"
          ]
        }
      ]
    },
    {
      "cell_type": "markdown",
      "source": [
        "**Matrix Multiplication Rule:**\n",
        "\n",
        "The number of columns in the first matrix must equal the number of rows in the second matrix.\n",
        "\n",
        "first matrix: (6, **3**)\n",
        "\n",
        "Second matrix: (**6**, 3)\n",
        "\n",
        "Invalid: 3 ≠ 6 → Matrix multiplication is not possible here. So it throws error"
      ],
      "metadata": {
        "id": "NJngb1HY_xUF"
      }
    },
    {
      "cell_type": "code",
      "source": [
        "print(a.shape)\n",
        "print(b.shape)"
      ],
      "metadata": {
        "colab": {
          "base_uri": "https://localhost:8080/"
        },
        "id": "_tkuDU3d_uXo",
        "outputId": "364b14ea-eb68-497c-dfee-5b648529069c"
      },
      "execution_count": 64,
      "outputs": [
        {
          "output_type": "stream",
          "name": "stdout",
          "text": [
            "(6, 3)\n",
            "(6, 3)\n"
          ]
        }
      ]
    },
    {
      "cell_type": "code",
      "source": [
        "b = b.reshape(3,6)\n",
        "print(b)"
      ],
      "metadata": {
        "colab": {
          "base_uri": "https://localhost:8080/"
        },
        "id": "BuOXNXWGALDM",
        "outputId": "3468db3d-0428-481c-ce22-0d08118dde46"
      },
      "execution_count": 65,
      "outputs": [
        {
          "output_type": "stream",
          "name": "stdout",
          "text": [
            "[[20 21 22 23 24 25]\n",
            " [26 27 28 29 30 31]\n",
            " [32 33 34 35 36 37]]\n"
          ]
        }
      ]
    },
    {
      "cell_type": "code",
      "source": [
        "print(a.shape)\n",
        "print(b.shape)\n"
      ],
      "metadata": {
        "colab": {
          "base_uri": "https://localhost:8080/"
        },
        "id": "YU0YY7o2AUwv",
        "outputId": "bb990a99-b365-4a2d-fb5e-21c2a85d98a7"
      },
      "execution_count": 66,
      "outputs": [
        {
          "output_type": "stream",
          "name": "stdout",
          "text": [
            "(6, 3)\n",
            "(3, 6)\n"
          ]
        }
      ]
    },
    {
      "cell_type": "code",
      "source": [
        "a@b   #matrix maltiplication"
      ],
      "metadata": {
        "colab": {
          "base_uri": "https://localhost:8080/"
        },
        "id": "Uqg5saIdAj-y",
        "outputId": "126dafea-2e50-4bed-9a54-15b2fadbb3bf"
      },
      "execution_count": 67,
      "outputs": [
        {
          "output_type": "execute_result",
          "data": {
            "text/plain": [
              "array([[  90,   93,   96,   99,  102,  105],\n",
              "       [ 324,  336,  348,  360,  372,  384],\n",
              "       [ 558,  579,  600,  621,  642,  663],\n",
              "       [ 792,  822,  852,  882,  912,  942],\n",
              "       [1026, 1065, 1104, 1143, 1182, 1221],\n",
              "       [1260, 1308, 1356, 1404, 1452, 1500]])"
            ]
          },
          "metadata": {},
          "execution_count": 67
        }
      ]
    },
    {
      "cell_type": "code",
      "source": [
        "a.dot(b)   #functions for the a@b\n"
      ],
      "metadata": {
        "colab": {
          "base_uri": "https://localhost:8080/"
        },
        "id": "NQ6C_oQsAtus",
        "outputId": "aa093bcd-caf2-414f-eaf8-4fb169035451"
      },
      "execution_count": 68,
      "outputs": [
        {
          "output_type": "execute_result",
          "data": {
            "text/plain": [
              "array([[  90,   93,   96,   99,  102,  105],\n",
              "       [ 324,  336,  348,  360,  372,  384],\n",
              "       [ 558,  579,  600,  621,  642,  663],\n",
              "       [ 792,  822,  852,  882,  912,  942],\n",
              "       [1026, 1065, 1104, 1143, 1182, 1221],\n",
              "       [1260, 1308, 1356, 1404, 1452, 1500]])"
            ]
          },
          "metadata": {},
          "execution_count": 68
        }
      ]
    },
    {
      "cell_type": "markdown",
      "source": [
        "\n",
        "1. arr.min() – Returns the smallest element in the array.\n",
        "\n",
        "2. arr.max() – Returns the largest element in the array.\n",
        "\n",
        "3. arr.argmax() – Returns the index of the maximum element.\n",
        "\n",
        "4. np.sum(arr) – Returns the sum of all elements in the array.\n",
        "\n",
        "5. np.mean(arr) – Returns the average of all elements in the array.\n",
        "\n",
        "6. np.sqrt(arr) – Returns the square root of each element in the array.\n",
        "\n",
        "7. np.std(arr) – Returns the standard deviation of the array.\n",
        "\n",
        "8. np.log(arr) – Returns the natural logarithm of each element in the array.\n"
      ],
      "metadata": {
        "id": "189kl1_rA3TW"
      }
    },
    {
      "cell_type": "code",
      "source": [
        "b.min()"
      ],
      "metadata": {
        "colab": {
          "base_uri": "https://localhost:8080/"
        },
        "id": "OA7Xhcj8A1Sy",
        "outputId": "6d3fe0a6-2d1a-46bf-fe8b-0ad32ed7fbb9"
      },
      "execution_count": 69,
      "outputs": [
        {
          "output_type": "execute_result",
          "data": {
            "text/plain": [
              "np.int64(20)"
            ]
          },
          "metadata": {},
          "execution_count": 69
        }
      ]
    },
    {
      "cell_type": "code",
      "source": [
        "b.max()"
      ],
      "metadata": {
        "colab": {
          "base_uri": "https://localhost:8080/"
        },
        "id": "ao3JZWGnBSxX",
        "outputId": "95bdb32e-e28b-4d4b-cca8-9c6555786dd0"
      },
      "execution_count": 70,
      "outputs": [
        {
          "output_type": "execute_result",
          "data": {
            "text/plain": [
              "np.int64(37)"
            ]
          },
          "metadata": {},
          "execution_count": 70
        }
      ]
    },
    {
      "cell_type": "code",
      "source": [
        "\n",
        "b.argmax()"
      ],
      "metadata": {
        "colab": {
          "base_uri": "https://localhost:8080/"
        },
        "id": "u5EyFmJ1BU5o",
        "outputId": "d8cf6f95-236f-4db5-8a16-32a4b3607ce3"
      },
      "execution_count": 71,
      "outputs": [
        {
          "output_type": "execute_result",
          "data": {
            "text/plain": [
              "np.int64(17)"
            ]
          },
          "metadata": {},
          "execution_count": 71
        }
      ]
    },
    {
      "cell_type": "code",
      "source": [
        "np.sum(b)"
      ],
      "metadata": {
        "colab": {
          "base_uri": "https://localhost:8080/"
        },
        "id": "ancNXhhHBZxm",
        "outputId": "f059d2a6-69b8-4a99-9388-a86b86fc4355"
      },
      "execution_count": 72,
      "outputs": [
        {
          "output_type": "execute_result",
          "data": {
            "text/plain": [
              "np.int64(513)"
            ]
          },
          "metadata": {},
          "execution_count": 72
        }
      ]
    },
    {
      "cell_type": "code",
      "source": [
        "np.sum(b,axis=1) #rowwise addition"
      ],
      "metadata": {
        "colab": {
          "base_uri": "https://localhost:8080/"
        },
        "id": "HxJVPxX0BcoF",
        "outputId": "ce916af6-cf39-4715-980a-48b521470386"
      },
      "execution_count": 73,
      "outputs": [
        {
          "output_type": "execute_result",
          "data": {
            "text/plain": [
              "array([135, 171, 207])"
            ]
          },
          "metadata": {},
          "execution_count": 73
        }
      ]
    },
    {
      "cell_type": "code",
      "source": [
        "np.sum(b,axis=0) #columnwise addition"
      ],
      "metadata": {
        "colab": {
          "base_uri": "https://localhost:8080/"
        },
        "id": "MQckAJm_BiQC",
        "outputId": "7c3006bd-c15b-4fc3-bdc0-de408644c927"
      },
      "execution_count": 74,
      "outputs": [
        {
          "output_type": "execute_result",
          "data": {
            "text/plain": [
              "array([78, 81, 84, 87, 90, 93])"
            ]
          },
          "metadata": {},
          "execution_count": 74
        }
      ]
    },
    {
      "cell_type": "code",
      "source": [
        "np.mean(b)"
      ],
      "metadata": {
        "colab": {
          "base_uri": "https://localhost:8080/"
        },
        "id": "Ak_sIS16Bqvi",
        "outputId": "b07ea47f-66b3-4ada-b653-8985d56a064c"
      },
      "execution_count": 75,
      "outputs": [
        {
          "output_type": "execute_result",
          "data": {
            "text/plain": [
              "np.float64(28.5)"
            ]
          },
          "metadata": {},
          "execution_count": 75
        }
      ]
    },
    {
      "cell_type": "code",
      "source": [
        "np.sqrt(b)"
      ],
      "metadata": {
        "colab": {
          "base_uri": "https://localhost:8080/"
        },
        "id": "NvTmbgTxBuzH",
        "outputId": "645f81e2-fab4-4267-a9ac-1578e2804f69"
      },
      "execution_count": 76,
      "outputs": [
        {
          "output_type": "execute_result",
          "data": {
            "text/plain": [
              "array([[4.47213595, 4.58257569, 4.69041576, 4.79583152, 4.89897949,\n",
              "        5.        ],\n",
              "       [5.09901951, 5.19615242, 5.29150262, 5.38516481, 5.47722558,\n",
              "        5.56776436],\n",
              "       [5.65685425, 5.74456265, 5.83095189, 5.91607978, 6.        ,\n",
              "        6.08276253]])"
            ]
          },
          "metadata": {},
          "execution_count": 76
        }
      ]
    },
    {
      "cell_type": "code",
      "source": [
        "np.std(b)"
      ],
      "metadata": {
        "colab": {
          "base_uri": "https://localhost:8080/"
        },
        "id": "4V7n-nkWB2QN",
        "outputId": "d3456c34-f268-4bcc-f4a7-abd0c9b1e259"
      },
      "execution_count": 77,
      "outputs": [
        {
          "output_type": "execute_result",
          "data": {
            "text/plain": [
              "np.float64(5.188127472091127)"
            ]
          },
          "metadata": {},
          "execution_count": 77
        }
      ]
    },
    {
      "cell_type": "code",
      "source": [
        "np.log(b)"
      ],
      "metadata": {
        "colab": {
          "base_uri": "https://localhost:8080/"
        },
        "id": "_LXsFDHTB-cP",
        "outputId": "ea675d8b-bf47-46e9-fbcf-79fe44abe8d8"
      },
      "execution_count": 78,
      "outputs": [
        {
          "output_type": "execute_result",
          "data": {
            "text/plain": [
              "array([[2.99573227, 3.04452244, 3.09104245, 3.13549422, 3.17805383,\n",
              "        3.21887582],\n",
              "       [3.25809654, 3.29583687, 3.33220451, 3.36729583, 3.40119738,\n",
              "        3.4339872 ],\n",
              "       [3.4657359 , 3.49650756, 3.52636052, 3.55534806, 3.58351894,\n",
              "        3.61091791]])"
            ]
          },
          "metadata": {},
          "execution_count": 78
        }
      ]
    },
    {
      "cell_type": "code",
      "source": [
        "import matplotlib.pyplot as plt\n",
        "plt.style.use(\"dark_background\")"
      ],
      "metadata": {
        "id": "OrFELHlnCBgx"
      },
      "execution_count": 79,
      "outputs": []
    },
    {
      "cell_type": "code",
      "source": [
        "np.pi"
      ],
      "metadata": {
        "colab": {
          "base_uri": "https://localhost:8080/"
        },
        "id": "k3FBxY2DGlGo",
        "outputId": "9a1a54aa-4d79-4824-fed4-cc7a069bec4b"
      },
      "execution_count": 80,
      "outputs": [
        {
          "output_type": "execute_result",
          "data": {
            "text/plain": [
              "3.141592653589793"
            ]
          },
          "metadata": {},
          "execution_count": 80
        }
      ]
    },
    {
      "cell_type": "code",
      "source": [
        "np.sin(np.pi/2) #90 degree"
      ],
      "metadata": {
        "colab": {
          "base_uri": "https://localhost:8080/"
        },
        "id": "cteegqB0GrWZ",
        "outputId": "2a391e8e-f6e3-4d57-f7f4-4a7bdd396d39"
      },
      "execution_count": 81,
      "outputs": [
        {
          "output_type": "execute_result",
          "data": {
            "text/plain": [
              "np.float64(1.0)"
            ]
          },
          "metadata": {},
          "execution_count": 81
        }
      ]
    },
    {
      "cell_type": "code",
      "source": [
        "np.cos(np.pi/2)"
      ],
      "metadata": {
        "colab": {
          "base_uri": "https://localhost:8080/"
        },
        "id": "bNVGZ9CDGGf-",
        "outputId": "039e2049-360a-4c8b-bedd-393cb7652957"
      },
      "execution_count": 82,
      "outputs": [
        {
          "output_type": "execute_result",
          "data": {
            "text/plain": [
              "np.float64(6.123233995736766e-17)"
            ]
          },
          "metadata": {},
          "execution_count": 82
        }
      ]
    },
    {
      "cell_type": "code",
      "source": [
        "np.tan(np.pi/2)"
      ],
      "metadata": {
        "colab": {
          "base_uri": "https://localhost:8080/"
        },
        "id": "d8Q4RyV8GMsc",
        "outputId": "d27da975-3161-4b01-cff0-39f48bcf7fa0"
      },
      "execution_count": 83,
      "outputs": [
        {
          "output_type": "execute_result",
          "data": {
            "text/plain": [
              "np.float64(1.633123935319537e+16)"
            ]
          },
          "metadata": {},
          "execution_count": 83
        }
      ]
    },
    {
      "cell_type": "code",
      "source": [
        "np.tan(0)"
      ],
      "metadata": {
        "colab": {
          "base_uri": "https://localhost:8080/"
        },
        "id": "Z0XOnQi-GWm6",
        "outputId": "4e082663-2f23-4021-aed3-f27888114b14"
      },
      "execution_count": 84,
      "outputs": [
        {
          "output_type": "execute_result",
          "data": {
            "text/plain": [
              "np.float64(0.0)"
            ]
          },
          "metadata": {},
          "execution_count": 84
        }
      ]
    },
    {
      "cell_type": "markdown",
      "source": [
        "#Using Matplotlib with NumPy"
      ],
      "metadata": {
        "id": "5kV1794kGaPx"
      }
    },
    {
      "cell_type": "code",
      "source": [
        "x = np.arange(1,11)\n",
        "y = np.arange(10,110,10)\n",
        "\n",
        "plt.figure(figsize=(6,6))\n",
        "plt.plot(x,y,'r--')\n",
        "plt.show()"
      ],
      "metadata": {
        "colab": {
          "base_uri": "https://localhost:8080/",
          "height": 522
        },
        "id": "c5nHljakG2Gd",
        "outputId": "39edeb05-f2b9-4c4a-f1a4-4cfd4141b610"
      },
      "execution_count": 85,
      "outputs": [
        {
          "output_type": "display_data",
          "data": {
            "text/plain": [
              "<Figure size 600x600 with 1 Axes>"
            ],
            "image/png": "[encoded data removed]"
          },
          "metadata": {}
        }
      ]
    },
    {
      "cell_type": "markdown",
      "source": [
        "#Plotting Trigonometric Curves"
      ],
      "metadata": {
        "id": "AJt1gzsOHbno"
      }
    },
    {
      "cell_type": "code",
      "source": [
        "x_sin = np.arange(0,2*np.pi,0.1)\n",
        "y_sin = np.sin(x_sin)\n",
        "\n",
        "print(y_sin)"
      ],
      "metadata": {
        "colab": {
          "base_uri": "https://localhost:8080/"
        },
        "id": "w7Q6uKP2He8u",
        "outputId": "ce486367-4d74-4044-c58d-d422b528b4bf"
      },
      "execution_count": 86,
      "outputs": [
        {
          "output_type": "stream",
          "name": "stdout",
          "text": [
            "[ 0.          0.09983342  0.19866933  0.29552021  0.38941834  0.47942554\n",
            "  0.56464247  0.64421769  0.71735609  0.78332691  0.84147098  0.89120736\n",
            "  0.93203909  0.96355819  0.98544973  0.99749499  0.9995736   0.99166481\n",
            "  0.97384763  0.94630009  0.90929743  0.86320937  0.8084964   0.74570521\n",
            "  0.67546318  0.59847214  0.51550137  0.42737988  0.33498815  0.23924933\n",
            "  0.14112001  0.04158066 -0.05837414 -0.15774569 -0.2555411  -0.35078323\n",
            " -0.44252044 -0.52983614 -0.61185789 -0.68776616 -0.7568025  -0.81827711\n",
            " -0.87157577 -0.91616594 -0.95160207 -0.97753012 -0.993691   -0.99992326\n",
            " -0.99616461 -0.98245261 -0.95892427 -0.92581468 -0.88345466 -0.83226744\n",
            " -0.77276449 -0.70554033 -0.63126664 -0.55068554 -0.46460218 -0.37387666\n",
            " -0.2794155  -0.1821625  -0.0830894 ]\n"
          ]
        }
      ]
    },
    {
      "cell_type": "code",
      "source": [
        "plt.figure(figsize = (6,6))\n",
        "plt.plot(x_sin,y_sin)\n",
        "plt.title(\"sin curve\")       #sinusiodal curve\n",
        "plt.show()"
      ],
      "metadata": {
        "colab": {
          "base_uri": "https://localhost:8080/",
          "height": 545
        },
        "id": "7U0W6voIH0Ak",
        "outputId": "29c23aa4-fc76-4f0f-f922-334bcde491ca"
      },
      "execution_count": 87,
      "outputs": [
        {
          "output_type": "display_data",
          "data": {
            "text/plain": [
              "<Figure size 600x600 with 1 Axes>"
            ],
            "image/png": "[encoded data removed]"
          },
          "metadata": {}
        }
      ]
    },
    {
      "cell_type": "code",
      "source": [
        "x_cos = np.arange(0,2*np.pi,0.1)\n",
        "y_cos = np.cos(x_cos)\n",
        "\n",
        "plt.figure(figsize = (6,6))\n",
        "plt.plot(x_cos,y_cos)\n",
        "plt.title(\"cos curve\")       #parabolic curves\n",
        "plt.show()\n"
      ],
      "metadata": {
        "colab": {
          "base_uri": "https://localhost:8080/",
          "height": 545
        },
        "id": "Jyc3QC8JIQSv",
        "outputId": "8f98dd5b-5bb7-4629-b438-cbfa700dc203"
      },
      "execution_count": 88,
      "outputs": [
        {
          "output_type": "display_data",
          "data": {
            "text/plain": [
              "<Figure size 600x600 with 1 Axes>"
            ],
            "image/png": "[encoded data removed]"
          },
          "metadata": {}
        }
      ]
    },
    {
      "cell_type": "code",
      "source": [
        "x_tan= np.arange(0,2*np.pi,0.1)\n",
        "y_tan = np.tan(x_tan)\n",
        "\n",
        "plt.figure(figsize = (6,6))\n",
        "plt.plot(x_tan,y_tan)\n",
        "plt.title(\"tan curve\")\n",
        "plt.show()\n"
      ],
      "metadata": {
        "colab": {
          "base_uri": "https://localhost:8080/",
          "height": 545
        },
        "id": "ZbDwFRE0Ii0r",
        "outputId": "6683455b-3e3e-42f6-fa07-f0d2590ecdf8"
      },
      "execution_count": 89,
      "outputs": [
        {
          "output_type": "display_data",
          "data": {
            "text/plain": [
              "<Figure size 600x600 with 1 Axes>"
            ],
            "image/png": "[encoded data removed]"
          },
          "metadata": {}
        }
      ]
    },
    {
      "cell_type": "code",
      "source": [
        "x_cot= np.arange(0,2*np.pi,0.1)\n",
        "y_cot = 1 / np.tan(x_cot)\n",
        "\n",
        "plt.figure(figsize = (6,6))\n",
        "plt.plot(x_cot,y_cot)\n",
        "plt.title(\"cot curve\")\n",
        "plt.show()\n"
      ],
      "metadata": {
        "colab": {
          "base_uri": "https://localhost:8080/",
          "height": 580
        },
        "id": "LDuDmiB3I0oY",
        "outputId": "8c3ebc5e-e9fa-4c1b-86b0-5750cfeb2ac4"
      },
      "execution_count": 90,
      "outputs": [
        {
          "output_type": "stream",
          "name": "stderr",
          "text": [
            "<ipython-input-90-3260446357>:2: RuntimeWarning: divide by zero encountered in divide\n",
            "  y_cot = 1 / np.tan(x_cot)\n"
          ]
        },
        {
          "output_type": "display_data",
          "data": {
            "text/plain": [
              "<Figure size 600x600 with 1 Axes>"
            ],
            "image/png": "[encoded data removed]"
          },
          "metadata": {}
        }
      ]
    },
    {
      "cell_type": "markdown",
      "source": [
        "#Subplot\n",
        "subplot() is used to display multiple plots in a single figure by dividing the plotting area into rows and columns."
      ],
      "metadata": {
        "id": "J29R3A_vKVBF"
      }
    },
    {
      "cell_type": "code",
      "source": [
        "plt.figure(figsize = (6,6))\n",
        "plt.subplot(2,2,1)\n",
        "plt.plot(x_sin,y_sin, 'r--')\n",
        "plt.title(\"sin curve\")\n",
        "\n",
        "plt.subplot(2,2,2)\n",
        "plt.plot(x_cos,y_cos, 'b--')\n",
        "plt.title(\"cos curve\")\n",
        "\n",
        "plt.subplot(2,2,3)\n",
        "plt.plot(x_tan,y_tan, 'g--')\n",
        "plt.title(\"tan curve\")\n",
        "\n",
        "plt.subplot(2,2,4)\n",
        "plt.plot(x_cot,y_cot, 'w--')\n",
        "plt.title(\"cot curve\")\n",
        "\n",
        "plt.show()"
      ],
      "metadata": {
        "colab": {
          "base_uri": "https://localhost:8080/",
          "height": 545
        },
        "id": "OOOOB38EKUip",
        "outputId": "7e391d65-6fb4-4e5a-aebd-d5c6e8b22a68"
      },
      "execution_count": 91,
      "outputs": [
        {
          "output_type": "display_data",
          "data": {
            "text/plain": [
              "<Figure size 600x600 with 4 Axes>"
            ],
            "image/png": "[encoded data removed]"
          },
          "metadata": {}
        }
      ]
    },
    {
      "cell_type": "markdown",
      "source": [
        "**PART 7**"
      ],
      "metadata": {
        "id": "0NPFiQ1DQHpW"
      }
    },
    {
      "cell_type": "markdown",
      "source": [
        "\n",
        "\n",
        "1. random.random(1) – Generates a single random float number between 0 and 1.\n",
        "\n",
        "2. random.random((2, 2)) – Generates a 2x2 array of random float numbers between 0 and 1.\n",
        "\n",
        "3. random.randint(1, 10) – Generates a random integer between 1 and 9 (upper limit is exclusive).\n",
        "\n",
        "4. random.randint(1, 10, (2, 2)) – Generates a 2x2 array of random integers between 1 and 9.\n",
        "\n",
        "5. random.rand(2, 2) – Generates a 2x2 array of random float numbers between 0 and 1.\n",
        "\n",
        "6. random.randn(2, 2) – Generates a 2x2 array of random float numbers from a standard normal distribution (can be positive or negative).\n",
        "\n",
        "7. random.choice(a) – Selects a random element from the array a.\n",
        "\n"
      ],
      "metadata": {
        "id": "Fa3to9HMWF6a"
      }
    },
    {
      "cell_type": "code",
      "source": [
        "np.random.random(1)"
      ],
      "metadata": {
        "colab": {
          "base_uri": "https://localhost:8080/"
        },
        "id": "wsFy-iDjQHT8",
        "outputId": "94bc7ddc-70c7-4e1c-bf17-33c2f719a258"
      },
      "execution_count": 92,
      "outputs": [
        {
          "output_type": "execute_result",
          "data": {
            "text/plain": [
              "array([0.92264512])"
            ]
          },
          "metadata": {},
          "execution_count": 92
        }
      ]
    },
    {
      "cell_type": "code",
      "source": [
        "np.random.random(2)"
      ],
      "metadata": {
        "colab": {
          "base_uri": "https://localhost:8080/"
        },
        "id": "SpfJpmqLU1Df",
        "outputId": "dddc319e-1aff-4281-a167-f55f5864fa78"
      },
      "execution_count": 93,
      "outputs": [
        {
          "output_type": "execute_result",
          "data": {
            "text/plain": [
              "array([0.52062561, 0.46919447])"
            ]
          },
          "metadata": {},
          "execution_count": 93
        }
      ]
    },
    {
      "cell_type": "code",
      "source": [
        "np.random.random((2,2))"
      ],
      "metadata": {
        "colab": {
          "base_uri": "https://localhost:8080/"
        },
        "id": "jN9E4QixU5C0",
        "outputId": "a1bca8d7-aabe-4b39-ce25-9aabf507db21"
      },
      "execution_count": 94,
      "outputs": [
        {
          "output_type": "execute_result",
          "data": {
            "text/plain": [
              "array([[0.04310876, 0.90246192],\n",
              "       [0.69863777, 0.99284369]])"
            ]
          },
          "metadata": {},
          "execution_count": 94
        }
      ]
    },
    {
      "cell_type": "code",
      "source": [
        "np.random.randint(1,10)   #random number between 1 to 10"
      ],
      "metadata": {
        "colab": {
          "base_uri": "https://localhost:8080/"
        },
        "id": "-awwQKDSU-78",
        "outputId": "71fe8c7c-cb07-49f2-e4fd-c173006eda39"
      },
      "execution_count": 95,
      "outputs": [
        {
          "output_type": "execute_result",
          "data": {
            "text/plain": [
              "7"
            ]
          },
          "metadata": {},
          "execution_count": 95
        }
      ]
    },
    {
      "cell_type": "code",
      "source": [
        "np.random.randint(1,10,(2,2))"
      ],
      "metadata": {
        "colab": {
          "base_uri": "https://localhost:8080/"
        },
        "id": "3wKWj-PqVJ5R",
        "outputId": "772484bf-79e3-4aa7-a1d4-98a66d242938"
      },
      "execution_count": 96,
      "outputs": [
        {
          "output_type": "execute_result",
          "data": {
            "text/plain": [
              "array([[5, 5],\n",
              "       [6, 4]])"
            ]
          },
          "metadata": {},
          "execution_count": 96
        }
      ]
    },
    {
      "cell_type": "code",
      "source": [
        "np.random.randint(1,10,(3,4,5))"
      ],
      "metadata": {
        "colab": {
          "base_uri": "https://localhost:8080/"
        },
        "id": "ZSQCGi8kVWnD",
        "outputId": "17082161-3578-4fad-b3ba-5e325caf468f"
      },
      "execution_count": 97,
      "outputs": [
        {
          "output_type": "execute_result",
          "data": {
            "text/plain": [
              "array([[[9, 6, 8, 1, 7],\n",
              "        [7, 4, 1, 9, 3],\n",
              "        [1, 2, 6, 6, 3],\n",
              "        [7, 7, 8, 1, 1]],\n",
              "\n",
              "       [[6, 1, 1, 7, 6],\n",
              "        [2, 7, 6, 4, 1],\n",
              "        [9, 3, 7, 8, 1],\n",
              "        [8, 7, 3, 6, 6]],\n",
              "\n",
              "       [[3, 9, 9, 8, 7],\n",
              "        [6, 3, 9, 2, 9],\n",
              "        [3, 8, 8, 3, 1],\n",
              "        [2, 5, 5, 2, 4]]])"
            ]
          },
          "metadata": {},
          "execution_count": 97
        }
      ]
    },
    {
      "cell_type": "code",
      "source": [
        "np.random.rand(2,2)  #float value"
      ],
      "metadata": {
        "colab": {
          "base_uri": "https://localhost:8080/"
        },
        "id": "dL1TQAOEVeiC",
        "outputId": "2a1db8a7-354f-49c5-a59d-52cd76f823c9"
      },
      "execution_count": 98,
      "outputs": [
        {
          "output_type": "execute_result",
          "data": {
            "text/plain": [
              "array([[0.84022622, 0.0019116 ],\n",
              "       [0.61084628, 0.67301986]])"
            ]
          },
          "metadata": {},
          "execution_count": 98
        }
      ]
    },
    {
      "cell_type": "code",
      "source": [
        "np.random.randn(2,2)     #negative value"
      ],
      "metadata": {
        "colab": {
          "base_uri": "https://localhost:8080/"
        },
        "id": "iZtVYuMYVkhL",
        "outputId": "b3ec8ebe-cea3-422d-cb1e-2bf4744a41f1"
      },
      "execution_count": 99,
      "outputs": [
        {
          "output_type": "execute_result",
          "data": {
            "text/plain": [
              "array([[-1.82942814, -0.73467106],\n",
              "       [-0.8417734 , -0.05058734]])"
            ]
          },
          "metadata": {},
          "execution_count": 99
        }
      ]
    },
    {
      "cell_type": "code",
      "source": [
        "a=np.arange(1,10)\n",
        "a"
      ],
      "metadata": {
        "colab": {
          "base_uri": "https://localhost:8080/"
        },
        "id": "y4rtNNjzV0fp",
        "outputId": "00608640-732e-4a40-a831-5f93345b60f5"
      },
      "execution_count": 100,
      "outputs": [
        {
          "output_type": "execute_result",
          "data": {
            "text/plain": [
              "array([1, 2, 3, 4, 5, 6, 7, 8, 9])"
            ]
          },
          "metadata": {},
          "execution_count": 100
        }
      ]
    },
    {
      "cell_type": "code",
      "source": [
        "np.random.choice(a)"
      ],
      "metadata": {
        "colab": {
          "base_uri": "https://localhost:8080/"
        },
        "id": "JGZ88VU1V6yU",
        "outputId": "81b894c5-9fd4-49af-8a84-20253c0ba15a"
      },
      "execution_count": 101,
      "outputs": [
        {
          "output_type": "execute_result",
          "data": {
            "text/plain": [
              "np.int64(7)"
            ]
          },
          "metadata": {},
          "execution_count": 101
        }
      ]
    },
    {
      "cell_type": "code",
      "source": [
        "s1 = \"My name is Vishnu \"\n",
        "s2 = 'I am an engineer'"
      ],
      "metadata": {
        "id": "dM338_DFV-7P"
      },
      "execution_count": 102,
      "outputs": []
    },
    {
      "cell_type": "code",
      "source": [
        "np.char.add(s1,s2)"
      ],
      "metadata": {
        "colab": {
          "base_uri": "https://localhost:8080/",
          "height": 34
        },
        "id": "UY_W4JzOXdoO",
        "outputId": "d141c4ff-1fd4-440d-ad2e-a782411e9a9d"
      },
      "execution_count": 103,
      "outputs": [
        {
          "output_type": "execute_result",
          "data": {
            "text/plain": [
              "np.str_('My name is Vishnu I am an engineer')"
            ],
            "application/vnd.google.colaboratory.intrinsic+json": {
              "type": "string"
            }
          },
          "metadata": {},
          "execution_count": 103
        }
      ]
    },
    {
      "cell_type": "code",
      "source": [
        "np.char.upper(s1)"
      ],
      "metadata": {
        "colab": {
          "base_uri": "https://localhost:8080/"
        },
        "id": "OJp11Hf6XhWB",
        "outputId": "4ab6fb43-de2f-4ae7-ac8e-21ce6c5acd03"
      },
      "execution_count": 104,
      "outputs": [
        {
          "output_type": "execute_result",
          "data": {
            "text/plain": [
              "array('MY NAME IS VISHNU ', dtype='<U18')"
            ]
          },
          "metadata": {},
          "execution_count": 104
        }
      ]
    },
    {
      "cell_type": "code",
      "source": [
        "np.char.upper(s2)"
      ],
      "metadata": {
        "colab": {
          "base_uri": "https://localhost:8080/"
        },
        "id": "wP5IIK2rXoQf",
        "outputId": "338d28c2-9030-4fe9-cb3a-1d214ef4fca1"
      },
      "execution_count": 105,
      "outputs": [
        {
          "output_type": "execute_result",
          "data": {
            "text/plain": [
              "array('I AM AN ENGINEER', dtype='<U16')"
            ]
          },
          "metadata": {},
          "execution_count": 105
        }
      ]
    },
    {
      "cell_type": "code",
      "source": [
        "np.char.lower(s2)"
      ],
      "metadata": {
        "colab": {
          "base_uri": "https://localhost:8080/"
        },
        "id": "cAdVAwWhXtOq",
        "outputId": "c7882434-1a0a-4379-b1db-c5aff86984ea"
      },
      "execution_count": 106,
      "outputs": [
        {
          "output_type": "execute_result",
          "data": {
            "text/plain": [
              "array('i am an engineer', dtype='<U16')"
            ]
          },
          "metadata": {},
          "execution_count": 106
        }
      ]
    },
    {
      "cell_type": "code",
      "source": [
        "np.char.split(s1)   #split by words or space"
      ],
      "metadata": {
        "colab": {
          "base_uri": "https://localhost:8080/"
        },
        "id": "v3y1Jq0AXzfN",
        "outputId": "a4c8d4e4-f48d-4f49-e33d-f7fc57ee6f87"
      },
      "execution_count": 107,
      "outputs": [
        {
          "output_type": "execute_result",
          "data": {
            "text/plain": [
              "array(list(['My', 'name', 'is', 'Vishnu']), dtype=object)"
            ]
          },
          "metadata": {},
          "execution_count": 107
        }
      ]
    },
    {
      "cell_type": "code",
      "source": [
        "s3 = \"I love astronomy \\n and also cosmology\"\n",
        "np.char.splitlines(s3)   #split by lines"
      ],
      "metadata": {
        "colab": {
          "base_uri": "https://localhost:8080/"
        },
        "id": "cubXy9j5X4ZM",
        "outputId": "2a663c9f-8c1f-41fa-bb72-c6bcca47deda"
      },
      "execution_count": 108,
      "outputs": [
        {
          "output_type": "execute_result",
          "data": {
            "text/plain": [
              "array(list(['I love astronomy ', ' and also cosmology']), dtype=object)"
            ]
          },
          "metadata": {},
          "execution_count": 108
        }
      ]
    },
    {
      "cell_type": "code",
      "source": [
        "np.char.replace(s3,\"astronomy\", \"star\")"
      ],
      "metadata": {
        "colab": {
          "base_uri": "https://localhost:8080/"
        },
        "id": "cEMi11o6YBZm",
        "outputId": "7c23ef25-f2e0-4b4f-8fd7-1f7e0bda3289"
      },
      "execution_count": 109,
      "outputs": [
        {
          "output_type": "execute_result",
          "data": {
            "text/plain": [
              "array('I love star \\n and also cosmology', dtype='<U32')"
            ]
          },
          "metadata": {},
          "execution_count": 109
        }
      ]
    },
    {
      "cell_type": "code",
      "source": [
        "print( '*********good bye************')"
      ],
      "metadata": {
        "colab": {
          "base_uri": "https://localhost:8080/"
        },
        "id": "BJNTvuRDYheJ",
        "outputId": "549766a2-577f-4d10-c677-39c739acfc45"
      },
      "execution_count": 110,
      "outputs": [
        {
          "output_type": "stream",
          "name": "stdout",
          "text": [
            "*********good bye************\n"
          ]
        }
      ]
    },
    {
      "cell_type": "code",
      "source": [
        "print(np.char.center('good bye', 80,'*'))"
      ],
      "metadata": {
        "colab": {
          "base_uri": "https://localhost:8080/"
        },
        "id": "cYBSUuA-Y1CV",
        "outputId": "550e4bad-aa46-4292-b0ca-32f109e7ee9b"
      },
      "execution_count": 111,
      "outputs": [
        {
          "output_type": "stream",
          "name": "stdout",
          "text": [
            "************************************good bye************************************\n"
          ]
        }
      ]
    }
  ]
}